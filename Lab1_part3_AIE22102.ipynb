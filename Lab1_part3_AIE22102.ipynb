{
 "cells": [
  {
   "cell_type": "markdown",
   "id": "c5060872",
   "metadata": {},
   "source": [
    "**Lab 1 Part 3**"
   ]
  },
  {
   "cell_type": "markdown",
   "id": "76585b32",
   "metadata": {},
   "source": [
    "Q1"
   ]
  },
  {
   "cell_type": "code",
   "execution_count": 1,
   "id": "fb64e8d3",
   "metadata": {},
   "outputs": [
    {
     "name": "stdout",
     "output_type": "stream",
     "text": [
      "Pair with sum 10 found: (2, 8)\n"
     ]
    }
   ],
   "source": [
    "def find_pair_with_sum(nums, target):\n",
    "    num_set = set()\n",
    "    for num in nums:\n",
    "        complement = target - num\n",
    "        if complement in num_set:\n",
    "            return num, complement\n",
    "        num_set.add(num)\n",
    "    return None  \n",
    "\n",
    "arr = [8, 7, 2, 5, 3, 1]\n",
    "target_sum = 10\n",
    "pair = find_pair_with_sum(arr, target_sum)\n",
    "if pair:\n",
    "    print(f\"Pair with sum {target_sum} found:\", pair)\n",
    "else:\n",
    "    print(\"No pair found with the given sum.\")"
   ]
  },
  {
   "cell_type": "markdown",
   "id": "1545b8b4",
   "metadata": {},
   "source": [
    "Q2"
   ]
  },
  {
   "cell_type": "code",
   "execution_count": 7,
   "id": "794d74b2",
   "metadata": {},
   "outputs": [
    {
     "name": "stdout",
     "output_type": "stream",
     "text": [
      "Maximum product of a pair: 72\n"
     ]
    }
   ],
   "source": [
    "def max_pair_product(nums):\n",
    "    nums.sort()\n",
    "    n = len(nums)\n",
    "    max_product = max(nums[0] * nums[1], nums[n-1] * nums[n-2])\n",
    "    return max_product\n",
    "\n",
    "arr = [1, 7, 4, 2, 8, 6, 3, 9, 5]\n",
    "max_prod = max_pair_product(arr)\n",
    "print(\"Maximum product of a pair:\", max_prod)"
   ]
  },
  {
   "cell_type": "markdown",
   "id": "2b6ab0c4",
   "metadata": {},
   "source": [
    "Q3"
   ]
  },
  {
   "cell_type": "code",
   "execution_count": 21,
   "id": "ebdcd2a2",
   "metadata": {},
   "outputs": [
    {
     "name": "stdout",
     "output_type": "stream",
     "text": [
      "Sorted array: [1, 2, 3, 4, 5]\n"
     ]
    }
   ],
   "source": [
    "def find_swapped_elements(nums):\n",
    "    first_swapped = None\n",
    "    second_swapped = None\n",
    "    for i in range(len(nums) - 1):\n",
    "        if nums[i] > nums[i + 1]:\n",
    "            first_swapped = i\n",
    "            break\n",
    "    for i in range(len(nums) - 1, 0, -1):\n",
    "        if nums[i] < nums[i - 1]:\n",
    "            second_swapped = i\n",
    "            break\n",
    "\n",
    "    return first_swapped, second_swapped\n",
    "\n",
    "def sort_array(nums):\n",
    "    first_swapped, second_swapped = find_swapped_elements(nums)\n",
    "    if first_swapped is None:\n",
    "        return nums\n",
    "    temp=nums[first_swapped]\n",
    "    nums[first_swapped]=nums[second_swapped]\n",
    "    nums[second_swapped]=temp\n",
    "    return nums\n",
    "\n",
    "arr = [1, 4, 3, 2, 5]\n",
    "sorted_arr = sort_array(arr)\n",
    "print(\"Sorted array:\", sorted_arr)"
   ]
  },
  {
   "cell_type": "markdown",
   "id": "cdd693a7",
   "metadata": {},
   "source": [
    "Q4"
   ]
  },
  {
   "cell_type": "code",
   "execution_count": 19,
   "id": "60057147",
   "metadata": {},
   "outputs": [
    {
     "name": "stdout",
     "output_type": "stream",
     "text": [
      "Segregated array: [0, 0, 0, 0, 0, 1, 1, 1, 1, 1]\n"
     ]
    }
   ],
   "source": [
    "def segregate_zeros_and_ones(nums):\n",
    "    left = 0\n",
    "    right = len(nums) - 1\n",
    "    while left<right:\n",
    "        if nums[left]==1:\n",
    "            temp=nums[left]\n",
    "            nums[left]=nums[right]\n",
    "            nums[right]=temp\n",
    "            right-=1\n",
    "        else:\n",
    "            left+=1\n",
    "arr = [0, 1, 0, 1, 0, 0, 1, 1, 1, 0]\n",
    "segregate_zeros_and_ones(arr)\n",
    "print(\"Segregated array:\", arr)"
   ]
  },
  {
   "cell_type": "markdown",
   "id": "58b68471",
   "metadata": {},
   "source": [
    "Q5"
   ]
  },
  {
   "cell_type": "code",
   "execution_count": 18,
   "id": "f32845f9",
   "metadata": {},
   "outputs": [
    {
     "name": "stdout",
     "output_type": "stream",
     "text": [
      "The possible inversions are: [(10, 1), (10, 2), (10, 4), (10, 9), (10, 5), (13, 9), (13, 5), (9, 5)]\n",
      "No. of possible inversions are:  8\n"
     ]
    }
   ],
   "source": [
    "def inversions(arr, n):\n",
    "    inv_list=[]\n",
    "    for i in range(n):\n",
    "        for j in range(i + 1, n):\n",
    "            if arr[i] > arr[j]:\n",
    "                a=(arr[i],arr[j])\n",
    "                inv_list.append(a)\n",
    "    return inv_list\n",
    "\n",
    "arr = [10,1,2,4,13,9,5]\n",
    "n = len(arr)\n",
    "inversion_list= inversions(arr, n)\n",
    "print(\"The possible inversions are:\",inversion_list)\n",
    "print(\"No. of possible inversions are: \",len(inversion_list))"
   ]
  },
  {
   "cell_type": "markdown",
   "id": "d31468e4",
   "metadata": {},
   "source": [
    "Q6"
   ]
  },
  {
   "cell_type": "markdown",
   "id": "226b6067",
   "metadata": {},
   "source": [
    "O[n^2] algo"
   ]
  },
  {
   "cell_type": "code",
   "execution_count": 22,
   "id": "e4680eab",
   "metadata": {},
   "outputs": [
    {
     "name": "stdout",
     "output_type": "stream",
     "text": [
      "Is there a pair with sum 10 : True\n"
     ]
    }
   ],
   "source": [
    "def two_sum_n_squared(arr, K):\n",
    "    n = len(arr)\n",
    "    for i in range(n):\n",
    "        for j in range(i + 1, n):\n",
    "            if arr[i] + arr[j] == K:\n",
    "                return True\n",
    "    return False\n",
    "\n",
    "arr = [8, 4, 1, 6]\n",
    "K = 10\n",
    "print(\"Is there a pair with sum\", K, \":\", two_sum_n_squared(arr, K))"
   ]
  },
  {
   "cell_type": "markdown",
   "id": "efad0120",
   "metadata": {},
   "source": [
    "O(nlogn) algo"
   ]
  },
  {
   "cell_type": "code",
   "execution_count": 23,
   "id": "6c1069cd",
   "metadata": {},
   "outputs": [
    {
     "name": "stdout",
     "output_type": "stream",
     "text": [
      "Is there a pair with sum 10 : True\n"
     ]
    }
   ],
   "source": [
    "def two_sum_nlogn(arr, K):\n",
    "    arr.sort()\n",
    "    left = 0\n",
    "    right = len(arr) - 1\n",
    "    while left < right:\n",
    "        if arr[left] + arr[right] == K:\n",
    "            return True\n",
    "        elif arr[left] + arr[right] < K:\n",
    "            left += 1\n",
    "        else:\n",
    "            right -= 1\n",
    "    return False\n",
    "\n",
    "arr = [8, 4, 1, 6]\n",
    "K = 10\n",
    "print(\"Is there a pair with sum\", K, \":\", two_sum_nlogn(arr, K))"
   ]
  }
 ],
 "metadata": {
  "kernelspec": {
   "display_name": "Python 3 (ipykernel)",
   "language": "python",
   "name": "python3"
  },
  "language_info": {
   "codemirror_mode": {
    "name": "ipython",
    "version": 3
   },
   "file_extension": ".py",
   "mimetype": "text/x-python",
   "name": "python",
   "nbconvert_exporter": "python",
   "pygments_lexer": "ipython3",
   "version": "3.11.5"
  }
 },
 "nbformat": 4,
 "nbformat_minor": 5
}
