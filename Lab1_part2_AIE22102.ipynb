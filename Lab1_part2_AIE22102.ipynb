{
 "cells": [
  {
   "cell_type": "markdown",
   "id": "94b8e4c7",
   "metadata": {},
   "source": [
    "**Lab 1 Part 2**\n"
   ]
  },
  {
   "cell_type": "markdown",
   "id": "df07371e",
   "metadata": {},
   "source": [
    "Q1"
   ]
  },
  {
   "cell_type": "code",
   "execution_count": 1,
   "id": "b4dceca3",
   "metadata": {},
   "outputs": [],
   "source": [
    "import time\n",
    "import random\n",
    "import matplotlib.pyplot as plt"
   ]
  },
  {
   "cell_type": "code",
   "execution_count": 2,
   "id": "838462a8",
   "metadata": {},
   "outputs": [],
   "source": [
    "# Bubble Sort\n",
    "def bubble_sort(arr):\n",
    "    n = len(arr)\n",
    "    for i in range(n):\n",
    "        for j in range(0, n-i-1):\n",
    "            if arr[j] > arr[j+1]:\n",
    "                arr[j], arr[j+1] = arr[j+1], arr[j]"
   ]
  },
  {
   "cell_type": "code",
   "execution_count": 3,
   "id": "4a2af91e",
   "metadata": {},
   "outputs": [],
   "source": [
    "# Selection Sort\n",
    "def selection_sort(arr):\n",
    "    n = len(arr)\n",
    "    for i in range(n):\n",
    "        min_index = i\n",
    "        for j in range(i+1, n):\n",
    "            if arr[j] < arr[min_index]:\n",
    "                min_index = j\n",
    "        arr[i], arr[min_index] = arr[min_index], arr[i]"
   ]
  },
  {
   "cell_type": "code",
   "execution_count": 4,
   "id": "fbd75859",
   "metadata": {},
   "outputs": [],
   "source": [
    "# Insertion Sort\n",
    "def insertion_sort(arr):\n",
    "    n = len(arr)\n",
    "    for i in range(1, n):\n",
    "        key = arr[i]\n",
    "        j = i - 1\n",
    "        while j >= 0 and arr[j] > key:\n",
    "            arr[j + 1] = arr[j]\n",
    "            j -= 1\n",
    "        arr[j + 1] = key"
   ]
  },
  {
   "cell_type": "code",
   "execution_count": 5,
   "id": "00e14b4c",
   "metadata": {},
   "outputs": [],
   "source": [
    "# Merge Sort\n",
    "def merge_sort(arr):\n",
    "    if len(arr) > 1:\n",
    "        mid = len(arr) // 2\n",
    "        L = arr[:mid]\n",
    "        R = arr[mid:]\n",
    "\n",
    "        merge_sort(L)\n",
    "        merge_sort(R)\n",
    "\n",
    "        i = j = k = 0\n",
    "\n",
    "        while i < len(L) and j < len(R):\n",
    "            if L[i] < R[j]:\n",
    "                arr[k] = L[i]\n",
    "                i += 1\n",
    "            else:\n",
    "                arr[k] = R[j]\n",
    "                j += 1\n",
    "            k += 1\n",
    "\n",
    "        while i < len(L):\n",
    "            arr[k] = L[i]\n",
    "            i += 1\n",
    "            k += 1\n",
    "\n",
    "        while j < len(R):\n",
    "            arr[k] = R[j]\n",
    "            j += 1\n",
    "            k += 1"
   ]
  },
  {
   "cell_type": "code",
   "execution_count": 6,
   "id": "a2fad7f7",
   "metadata": {},
   "outputs": [],
   "source": [
    "# Quick Sort\n",
    "def partition(arr, low, high):\n",
    "    pivot = arr[high]\n",
    "    i = low - 1\n",
    "    for j in range(low, high):\n",
    "        if arr[j] < pivot:\n",
    "            i += 1\n",
    "            arr[i], arr[j] = arr[j], arr[i]\n",
    "    arr[i + 1], arr[high] = arr[high], arr[i + 1]\n",
    "    return i + 1\n",
    "\n",
    "def quick_sort(arr, low, high):\n",
    "    if low < high:\n",
    "        pi = partition(arr, low, high)\n",
    "        quick_sort(arr, low, pi - 1)\n",
    "        quick_sort(arr, pi + 1, high)"
   ]
  },
  {
   "cell_type": "code",
   "execution_count": 17,
   "id": "c8c9ca15",
   "metadata": {},
   "outputs": [],
   "source": [
    "# Bucket Sort\n",
    "def bucket_sort(arr):\n",
    "    buckets = [[] for _ in range(10)]\n",
    "    for num in arr:\n",
    "        index = num // 1000\n",
    "        buckets[index].append(num)\n",
    "    sorted_arr = []\n",
    "    for bucket in buckets:\n",
    "        sorted_arr.extend(sorted(bucket))\n",
    "    return sorted_arr\n"
   ]
  },
  {
   "cell_type": "code",
   "execution_count": 9,
   "id": "0a8e5e2f",
   "metadata": {},
   "outputs": [],
   "source": [
    "# Heap Sort\n",
    "def heapify(arr, n, i):\n",
    "    largest = i\n",
    "    l = 2 * i + 1\n",
    "    r = 2 * i + 2\n",
    "    if l < n and arr[l] > arr[largest]:\n",
    "        largest = l\n",
    "    if r < n and arr[r] > arr[largest]:\n",
    "        largest = r\n",
    "    if largest != i:\n",
    "        arr[i], arr[largest] = arr[largest], arr[i]\n",
    "        heapify(arr, n, largest)\n",
    "\n",
    "def heap_sort(arr):\n",
    "    n = len(arr)\n",
    "    for i in range(n // 2 - 1, -1, -1):\n",
    "        heapify(arr, n, i)\n",
    "    for i in range(n - 1, 0, -1):\n",
    "        arr[i], arr[0] = arr[0], arr[i]\n",
    "        heapify(arr, i, 0)"
   ]
  },
  {
   "cell_type": "code",
   "execution_count": 10,
   "id": "a7ceaa1b",
   "metadata": {},
   "outputs": [],
   "source": [
    "# Radix Sort\n",
    "def counting_sort(arr, exp):\n",
    "    n = len(arr)\n",
    "    output = [0] * n\n",
    "    count = [0] * 10\n",
    "\n",
    "    for i in range(n):\n",
    "        index = arr[i] // exp\n",
    "        count[index % 10] += 1\n",
    "\n",
    "    for i in range(1, 10):\n",
    "        count[i] += count[i - 1]\n",
    "\n",
    "    i = n - 1\n",
    "    while i >= 0:\n",
    "        index = arr[i] // exp\n",
    "        output[count[index % 10] - 1] = arr[i]\n",
    "        count[index % 10] -= 1\n",
    "        i -= 1\n",
    "\n",
    "    i = 0\n",
    "    for i in range(n):\n",
    "        arr[i] = output[i]\n",
    "\n",
    "def radix_sort(arr):\n",
    "    max_num = max(arr)\n",
    "    exp = 1\n",
    "    while max_num // exp > 0:\n",
    "        counting_sort(arr, exp)\n",
    "        exp *= 10"
   ]
  },
  {
   "cell_type": "code",
   "execution_count": 18,
   "id": "9b9b1e4e",
   "metadata": {},
   "outputs": [
    {
     "data": {
      "image/png": "[encoded data removed]",
      "text/plain": [
       "<Figure size 1000x600 with 1 Axes>"
      ]
     },
     "metadata": {},
     "output_type": "display_data"
    }
   ],
   "source": [
    "random_numbers = [random.randint(1, 10000) for _ in range(1000)]\n",
    "sorting_algorithms = {\n",
    "    \"Bubble Sort\": bubble_sort,\n",
    "    \"Selection Sort\": selection_sort,\n",
    "    \"Insertion Sort\": insertion_sort,\n",
    "    \"Merge Sort\": merge_sort,\n",
    "    \"Quick Sort\": lambda arr: quick_sort(arr, 0, len(arr) - 1),\n",
    "    \"Bucket Sort\": bucket_sort,\n",
    "    \"Heap Sort\": heap_sort,\n",
    "    \"Radix Sort\": radix_sort\n",
    "}\n",
    "\n",
    "execution_times = {}\n",
    "for algorithm_name, algorithm in sorting_algorithms.items():\n",
    "    arr_copy = random_numbers.copy()\n",
    "    start_time = time.time()\n",
    "    algorithm(arr_copy)\n",
    "    end_time = time.time()\n",
    "    execution_times[algorithm_name] = end_time - start_time\n",
    "\n",
    "\n",
    "plt.figure(figsize=(10, 6))\n",
    "plt.bar(execution_times.keys(), execution_times.values())\n",
    "plt.xlabel('Sorting Algorithm')\n",
    "plt.ylabel('Time (s)')\n",
    "plt.title('Time taken by Sorting Algorithms')\n",
    "plt.xticks(rotation=45, ha='right')\n",
    "plt.tight_layout()\n",
    "plt.show()"
   ]
  },
  {
   "cell_type": "markdown",
   "id": "e5d96619",
   "metadata": {},
   "source": [
    "Q2"
   ]
  },
  {
   "cell_type": "code",
   "execution_count": 21,
   "id": "2eb1d8f2",
   "metadata": {},
   "outputs": [
    {
     "name": "stdout",
     "output_type": "stream",
     "text": [
      "Sorted Lists:\n",
      "[10, 19, 20, 38, 92]\n",
      "[54, 55, 62, 66, 91]\n",
      "[19, 20, 36, 42, 92]\n",
      "\n",
      "Merged and Sorted List:\n",
      "[10, 19, 19, 20, 20, 36, 38, 42, 54, 55, 62, 66, 91, 92, 92]\n"
     ]
    }
   ],
   "source": [
    "import heapq\n",
    "\n",
    "def merge_sorted_lists(lists):\n",
    "    merged_list = []\n",
    "    heap = []\n",
    "\n",
    "   \n",
    "    for i, lst in enumerate(lists):\n",
    "        if lst:\n",
    "            heapq.heappush(heap, (lst[0], i, 0))\n",
    "\n",
    "    while heap:\n",
    "        val, lst_index, elem_index = heapq.heappop(heap)\n",
    "        merged_list.append(val)\n",
    "\n",
    "        \n",
    "        if elem_index + 1 < len(lists[lst_index]):\n",
    "            heapq.heappush(heap, (lists[lst_index][elem_index + 1], lst_index, elem_index + 1))\n",
    "\n",
    "    return merged_list\n",
    "\n",
    "\n",
    "m = 3 \n",
    "n = 5 \n",
    "\n",
    "# Generating sample sorted lists\n",
    "sorted_lists = []\n",
    "for _ in range(m):\n",
    "    sorted_lists.append(sorted(random.sample(range(1, 100), n)))\n",
    "\n",
    "print(\"Sorted Lists:\")\n",
    "for lst in sorted_lists:\n",
    "    print(lst)\n",
    "\n",
    "print(\"\\nMerged and Sorted List:\")\n",
    "result = merge_sorted_lists(sorted_lists)\n",
    "print(result)\n"
   ]
  },
  {
   "cell_type": "markdown",
   "id": "5bcba30f",
   "metadata": {},
   "source": [
    "Q3"
   ]
  },
  {
   "cell_type": "code",
   "execution_count": 24,
   "id": "a3a69561",
   "metadata": {},
   "outputs": [
    {
     "name": "stdout",
     "output_type": "stream",
     "text": [
      "Enter the size of the array: 20\n",
      "Generated array: [59, 45, 48, 89, 99, 26, 56, 55, 26, 48, 50, 36, 21, 42, 34, 74, 52, 82, 57, 100]\n",
      "Enter the value of K (number of largest elements to find): 4\n",
      "The 4 largest elements in the array are: [82, 99, 89, 100]\n"
     ]
    }
   ],
   "source": [
    "import heapq\n",
    "import random\n",
    "def find_k_largest_elements(nums, k):\n",
    "    heap = []\n",
    "    for num in nums:\n",
    "        if len(heap) < k:\n",
    "            heapq.heappush(heap, num)\n",
    "        else:\n",
    "            if num > heap[0]:\n",
    "                heapq.heappop(heap)\n",
    "                heapq.heappush(heap, num)\n",
    "    return heap\n",
    "\n",
    "N = int(input(\"Enter the size of the array: \"))\n",
    "arr = [random.randint(1, 100) for _ in range(N)]\n",
    "print(\"Generated array:\", arr)\n",
    "K = int(input(\"Enter the value of K (number of largest elements to find): \"))\n",
    "result = find_k_largest_elements(arr, K)\n",
    "print(f\"The {K} largest elements in the array are:\", result)\n"
   ]
  },
  {
   "cell_type": "markdown",
   "id": "322c1f03",
   "metadata": {},
   "source": [
    "Q4"
   ]
  },
  {
   "cell_type": "code",
   "execution_count": 27,
   "id": "7fe65056",
   "metadata": {},
   "outputs": [
    {
     "name": "stdout",
     "output_type": "stream",
     "text": [
      "Maximum number of activities performed: 3\n",
      "Executed activities: [(1, 3), (4, 6), (7, 10)]\n"
     ]
    }
   ],
   "source": [
    "def activity_selection(activities):\n",
    "    # Sort activities based on finishing time\n",
    "    activities.sort(key=lambda x: x[1])\n",
    "    selected_activities = []\n",
    "    prev_finish_time = float('-inf')\n",
    "    for activity in activities:\n",
    "        start, finish = activity\n",
    "        if start >= prev_finish_time:\n",
    "            selected_activities.append(activity)\n",
    "            prev_finish_time = finish\n",
    "    return selected_activities\n",
    "\n",
    "activities = [(1, 3), (2, 5), (3, 8), (4, 6), (5, 9), (7, 10), (8, 11)]\n",
    "selected = activity_selection(activities)\n",
    "print(\"Maximum number of activities performed:\", len(selected))\n",
    "print(\"Executed activities:\", selected)\n"
   ]
  },
  {
   "cell_type": "markdown",
   "id": "7caab14e",
   "metadata": {},
   "source": [
    "Q5"
   ]
  },
  {
   "cell_type": "code",
   "execution_count": 31,
   "id": "05103e9c",
   "metadata": {},
   "outputs": [
    {
     "name": "stdout",
     "output_type": "stream",
     "text": [
      "Non-overlapping intervals after merging:\n",
      "(1, 5)\n",
      "(6, 9)\n"
     ]
    }
   ],
   "source": [
    "def merge_intervals(intervals):\n",
    "    if not intervals:\n",
    "        return []\n",
    "    intervals.sort(key=lambda x: x[0])\n",
    "    merged_intervals = [intervals[0]]\n",
    "    for interval in intervals[1:]:\n",
    "        if interval[0] <= merged_intervals[-1][1]:  # Overlapping intervals\n",
    "            merged_intervals[-1] = (merged_intervals[-1][0], max(merged_intervals[-1][1], interval[1]))\n",
    "        else:\n",
    "            merged_intervals.append(interval)\n",
    "    return merged_intervals\n",
    "\n",
    "intervals = [(1, 4), (2, 5), (7, 8), (6, 9)]\n",
    "non_overlapping_intervals = merge_intervals(intervals)\n",
    "print(\"Non-overlapping intervals after merging:\")\n",
    "for interval in non_overlapping_intervals:\n",
    "    print(interval)"
   ]
  }
 ],
 "metadata": {
  "kernelspec": {
   "display_name": "Python 3 (ipykernel)",
   "language": "python",
   "name": "python3"
  },
  "language_info": {
   "codemirror_mode": {
    "name": "ipython",
    "version": 3
   },
   "file_extension": ".py",
   "mimetype": "text/x-python",
   "name": "python",
   "nbconvert_exporter": "python",
   "pygments_lexer": "ipython3",
   "version": "3.11.5"
  }
 },
 "nbformat": 4,
 "nbformat_minor": 5
}
